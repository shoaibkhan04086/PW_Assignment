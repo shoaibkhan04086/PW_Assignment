{
 "cells": [
  {
   "cell_type": "markdown",
   "id": "05568032",
   "metadata": {},
   "source": [
    "# Q1.Write a program to print numbers from 1 to 10, but stop if the number is 5."
   ]
  },
  {
   "cell_type": "code",
   "execution_count": 1,
   "id": "d16e3183",
   "metadata": {},
   "outputs": [
    {
     "name": "stdout",
     "output_type": "stream",
     "text": [
      "1\n",
      "2\n",
      "3\n",
      "4\n"
     ]
    }
   ],
   "source": [
    "num=1\n",
    "while(num<=10):\n",
    "    print(num)\n",
    "    num = num+1\n",
    "    if(num==5):\n",
    "        break"
   ]
  },
  {
   "cell_type": "markdown",
   "id": "9737a9a0",
   "metadata": {},
   "source": [
    "# Q2.Write a program to iterate through a list and stop when encountering a specific element."
   ]
  },
  {
   "cell_type": "code",
   "execution_count": 3,
   "id": "5d1973ed",
   "metadata": {},
   "outputs": [
    {
     "name": "stdout",
     "output_type": "stream",
     "text": [
      "1\n",
      "2\n",
      "3\n",
      "4\n",
      "5\n"
     ]
    }
   ],
   "source": [
    "my_list = [1,2,3,4,5,6,7]\n",
    "for x in my_list:\n",
    "    print(x)\n",
    "    if(x==5): # Here the target element is 5\n",
    "        break"
   ]
  },
  {
   "cell_type": "markdown",
   "id": "5c3cdf10",
   "metadata": {},
   "source": [
    "# Q3.Write a program to skip printing even numbers from 1 to 10."
   ]
  },
  {
   "cell_type": "code",
   "execution_count": 5,
   "id": "3699d226",
   "metadata": {},
   "outputs": [
    {
     "name": "stdout",
     "output_type": "stream",
     "text": [
      "1\n",
      "3\n",
      "5\n",
      "7\n",
      "9\n"
     ]
    }
   ],
   "source": [
    "# here i use a logic we can stop printing even number \n",
    "\n",
    "for num in range(1,11):\n",
    "    if(num%2!=0):\n",
    "        print(num)"
   ]
  },
  {
   "cell_type": "markdown",
   "id": "4669e27f",
   "metadata": {},
   "source": [
    "# Q4.Write a program to print numbers from 0 to 9 using range(). "
   ]
  },
  {
   "cell_type": "code",
   "execution_count": 6,
   "id": "32316bdf",
   "metadata": {},
   "outputs": [
    {
     "name": "stdout",
     "output_type": "stream",
     "text": [
      "0\n",
      "1\n",
      "2\n",
      "3\n",
      "4\n",
      "5\n",
      "6\n",
      "7\n",
      "8\n",
      "9\n"
     ]
    }
   ],
   "source": [
    "for i in range(10):\n",
    "    print(i)"
   ]
  },
  {
   "cell_type": "markdown",
   "id": "69e14d3e",
   "metadata": {},
   "source": [
    "# Q5.Write a program to print multiplication tables from 1 to 5, but stop after the first table is printed for each number"
   ]
  },
  {
   "cell_type": "code",
   "execution_count": 6,
   "id": "f07dcb9a",
   "metadata": {},
   "outputs": [
    {
     "name": "stdout",
     "output_type": "stream",
     "text": [
      "\n",
      "Multiplication table for 1:\n",
      "\n",
      "1 * 1 = 1\n",
      "\n",
      "Multiplication table for 2:\n",
      "\n",
      "2 * 1 = 2\n",
      "\n",
      "Multiplication table for 3:\n",
      "\n",
      "3 * 1 = 3\n",
      "\n",
      "Multiplication table for 4:\n",
      "\n",
      "4 * 1 = 4\n",
      "\n",
      "Multiplication table for 5:\n",
      "\n",
      "5 * 1 = 5\n"
     ]
    }
   ],
   "source": [
    "start_number = 1\n",
    "end_number = 5\n",
    "table_limit = 1\n",
    "\n",
    "for i in range(start_number, end_number + 1):\n",
    "    print(f\"\\nMultiplication table for {i}:\\n\")\n",
    "    j = 1\n",
    "    while j <= table_limit:\n",
    "        result = i * j\n",
    "        print(f\"{i} * {j} = {result}\")\n",
    "        j += 1\n"
   ]
  },
  {
   "cell_type": "markdown",
   "id": "1accbb1c",
   "metadata": {},
   "source": [
    "# Q6.Write a program to skip printing even numbers using a while loop."
   ]
  },
  {
   "cell_type": "code",
   "execution_count": 1,
   "id": "43aff7e4",
   "metadata": {},
   "outputs": [
    {
     "name": "stdout",
     "output_type": "stream",
     "text": [
      "enter a starting num: 1\n",
      "enter a end num: 10\n",
      "1\n",
      "3\n",
      "5\n",
      "7\n",
      "9\n"
     ]
    }
   ],
   "source": [
    "start_num = int(input(\"enter a starting num: \"))\n",
    "end_num = int(input(\"enter a end num: \"))\n",
    "while(start_num<=end_num):\n",
    "    if(start_num%2 !=0):\n",
    "        print(start_num)\n",
    "    start_num = start_num+1"
   ]
  },
  {
   "cell_type": "code",
   "execution_count": null,
   "id": "454376ba",
   "metadata": {},
   "outputs": [],
   "source": []
  },
  {
   "cell_type": "code",
   "execution_count": null,
   "id": "b94cc6b7",
   "metadata": {},
   "outputs": [],
   "source": []
  }
 ],
 "metadata": {
  "kernelspec": {
   "display_name": "Python 3 (ipykernel)",
   "language": "python",
   "name": "python3"
  },
  "language_info": {
   "codemirror_mode": {
    "name": "ipython",
    "version": 3
   },
   "file_extension": ".py",
   "mimetype": "text/x-python",
   "name": "python",
   "nbconvert_exporter": "python",
   "pygments_lexer": "ipython3",
   "version": "3.10.7"
  }
 },
 "nbformat": 4,
 "nbformat_minor": 5
}
