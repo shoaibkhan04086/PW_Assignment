{
 "cells": [
  {
   "cell_type": "markdown",
   "id": "52bb4d1b",
   "metadata": {},
   "source": [
    "# 1.Convert an integer to a floating-point number."
   ]
  },
  {
   "cell_type": "code",
   "execution_count": 9,
   "id": "2f1a43ff",
   "metadata": {},
   "outputs": [
    {
     "name": "stdout",
     "output_type": "stream",
     "text": [
      "before conversion :  1\n",
      "after conversion :  1.0\n"
     ]
    }
   ],
   "source": [
    "integer_num = 1\n",
    "print(\"before conversion : \",integer_num)\n",
    "result = float(integer_num)\n",
    "print(\"after conversion : \",result)"
   ]
  },
  {
   "cell_type": "markdown",
   "id": "96478647",
   "metadata": {},
   "source": [
    "# 2.Convert a float to an integer"
   ]
  },
  {
   "cell_type": "code",
   "execution_count": 10,
   "id": "4bf418fc",
   "metadata": {},
   "outputs": [
    {
     "name": "stdout",
     "output_type": "stream",
     "text": [
      "before conversion :  5.6\n",
      "after conversion :  5\n"
     ]
    }
   ],
   "source": [
    "float_num = 5.6\n",
    "print(\"before conversion : \",float_num)\n",
    "result = int(float_num)\n",
    "result\n",
    "print(\"after conversion : \",result)"
   ]
  },
  {
   "cell_type": "markdown",
   "id": "1b92a18b",
   "metadata": {},
   "source": [
    "# 3.Convert an integer to a string."
   ]
  },
  {
   "cell_type": "code",
   "execution_count": 14,
   "id": "4d066bde",
   "metadata": {},
   "outputs": [
    {
     "name": "stdout",
     "output_type": "stream",
     "text": [
      "before conversion :  1\n",
      "after conversion :  1\n"
     ]
    },
    {
     "data": {
      "text/plain": [
       "str"
      ]
     },
     "execution_count": 14,
     "metadata": {},
     "output_type": "execute_result"
    }
   ],
   "source": [
    "integer_num = 1\n",
    "print(\"before conversion : \",integer_num)\n",
    "result = str(integer_num)\n",
    "print(\"after conversion : \",result)\n",
    "type(result)"
   ]
  },
  {
   "cell_type": "markdown",
   "id": "ff17b4ce",
   "metadata": {},
   "source": [
    "# 4.Convert a list to a tuple."
   ]
  },
  {
   "cell_type": "code",
   "execution_count": 15,
   "id": "bfac92c5",
   "metadata": {},
   "outputs": [
    {
     "name": "stdout",
     "output_type": "stream",
     "text": [
      "before conversion :  ['apple', 2, True, 'hello']\n",
      "after conversion :  ('apple', 2, True, 'hello')\n"
     ]
    }
   ],
   "source": [
    "list1tp = [\"apple\",2,True,\"hello\"]\n",
    "print(\"before conversion : \",list1)\n",
    "result = tuple(list1)\n",
    "print(\"after conversion : \",result)"
   ]
  },
  {
   "cell_type": "markdown",
   "id": "84312f4a",
   "metadata": {},
   "source": [
    "# 5.Convert a tuple to a list."
   ]
  },
  {
   "cell_type": "code",
   "execution_count": 16,
   "id": "501acb49",
   "metadata": {},
   "outputs": [
    {
     "name": "stdout",
     "output_type": "stream",
     "text": [
      "before conversion :  ('apple', 2, True, 'hello')\n",
      "after conversion :  ['apple', 2, True, 'hello']\n"
     ]
    }
   ],
   "source": [
    "tuple1 = ('apple', 2, True, 'hello')\n",
    "print(\"before conversion : \",tuple1)\n",
    "result = list(tuple1)\n",
    "print(\"after conversion : \",result)"
   ]
  },
  {
   "cell_type": "markdown",
   "id": "5ddb2adb",
   "metadata": {},
   "source": [
    "# 6.Convert a decimal number to binary"
   ]
  },
  {
   "cell_type": "code",
   "execution_count": 17,
   "id": "bc64bcfa",
   "metadata": {},
   "outputs": [
    {
     "name": "stdout",
     "output_type": "stream",
     "text": [
      "before conversion :  18\n",
      "after conversion :  0b10010\n"
     ]
    }
   ],
   "source": [
    "decimal_num = 18\n",
    "print(\"before conversion : \",decimal_num)\n",
    "result = bin(decimal_num)\n",
    "print(\"after conversion : \",result)"
   ]
  },
  {
   "cell_type": "markdown",
   "id": "6cacb70e",
   "metadata": {},
   "source": [
    "# 7.Convert a non-zero number to boolean"
   ]
  },
  {
   "cell_type": "code",
   "execution_count": 18,
   "id": "c546e11e",
   "metadata": {},
   "outputs": [
    {
     "name": "stdout",
     "output_type": "stream",
     "text": [
      "before conversion :  1\n",
      "after conversion :  True\n"
     ]
    }
   ],
   "source": [
    "integer_num = 1\n",
    "print(\"before conversion : \",integer_num)\n",
    "result = bool(integer_num)\n",
    "print(\"after conversion : \",result)\n",
    "\n"
   ]
  },
  {
   "cell_type": "code",
   "execution_count": null,
   "id": "675c9c8e",
   "metadata": {},
   "outputs": [],
   "source": []
  }
 ],
 "metadata": {
  "kernelspec": {
   "display_name": "Python 3 (ipykernel)",
   "language": "python",
   "name": "python3"
  },
  "language_info": {
   "codemirror_mode": {
    "name": "ipython",
    "version": 3
   },
   "file_extension": ".py",
   "mimetype": "text/x-python",
   "name": "python",
   "nbconvert_exporter": "python",
   "pygments_lexer": "ipython3",
   "version": "3.10.7"
  }
 },
 "nbformat": 4,
 "nbformat_minor": 5
}
