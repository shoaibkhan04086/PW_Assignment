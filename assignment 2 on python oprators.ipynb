{
 "cells": [
  {
   "cell_type": "markdown",
   "id": "adfd5c78",
   "metadata": {},
   "source": [
    "# 1. Calculate the sum, difference, product and quotient of two number."
   ]
  },
  {
   "cell_type": "code",
   "execution_count": 3,
   "id": "813c1a74",
   "metadata": {},
   "outputs": [
    {
     "name": "stdout",
     "output_type": "stream",
     "text": [
      "enter num1: 6\n",
      "enter num2: 2\n",
      "Sum is:  8\n",
      "Difference is:  4\n",
      "Product is:  12\n",
      "Quotient is:  3.0\n"
     ]
    }
   ],
   "source": [
    "num1 = int(input(\"enter num1: \"))\n",
    "num2 = int(input(\"enter num2: \"))\n",
    "Sum = num1+num2\n",
    "Subtract = num1-num2\n",
    "Product = num1*num2\n",
    "Divide = num1/num2\n",
    "print(\"Sum is: \",Sum)\n",
    "print(\"Difference is: \",Subtract)\n",
    "print(\"Product is: \",Product)\n",
    "print(\"Quotient is: \",Divide)"
   ]
  },
  {
   "cell_type": "markdown",
   "id": "4d676380",
   "metadata": {},
   "source": [
    "# 2.Perform various assignment operations on a variable"
   ]
  },
  {
   "cell_type": "code",
   "execution_count": 17,
   "id": "54182467",
   "metadata": {},
   "outputs": [
    {
     "name": "stdout",
     "output_type": "stream",
     "text": [
      "13\n",
      "-4\n",
      "True\n"
     ]
    }
   ],
   "source": [
    "int1 = 10\n",
    "int2 = 3\n",
    "int2 +=int1\n",
    "print(int2)\n",
    "int3 = 6\n",
    "int3 -= int1\n",
    "print(int3)\n",
    "int1 = int3\n",
    "print(int1==int3)\n",
    "   "
   ]
  },
  {
   "cell_type": "markdown",
   "id": "71ec034f",
   "metadata": {},
   "source": [
    "# 3.Compare two numbers and print the results."
   ]
  },
  {
   "cell_type": "code",
   "execution_count": 20,
   "id": "193c4829",
   "metadata": {},
   "outputs": [
    {
     "name": "stdout",
     "output_type": "stream",
     "text": [
      "a is greater than b\n"
     ]
    }
   ],
   "source": [
    "a = 78\n",
    "b = 60\n",
    "a>b\n",
    "print(\"a is greater than b\")"
   ]
  },
  {
   "cell_type": "markdown",
   "id": "197273c9",
   "metadata": {},
   "source": [
    "# 4.Check conditions using logical operators."
   ]
  },
  {
   "cell_type": "code",
   "execution_count": 23,
   "id": "9bd378f0",
   "metadata": {},
   "outputs": [
    {
     "name": "stdout",
     "output_type": "stream",
     "text": [
      "a is greater than b\n"
     ]
    }
   ],
   "source": [
    "a = 78\n",
    "b = 60\n",
    "a>b and a<b\n",
    "print(\"a is greater than b\")"
   ]
  },
  {
   "cell_type": "markdown",
   "id": "071d1730",
   "metadata": {},
   "source": [
    "# 5.Check the identity of variables."
   ]
  },
  {
   "cell_type": "code",
   "execution_count": 25,
   "id": "0f40e596",
   "metadata": {},
   "outputs": [
    {
     "name": "stdout",
     "output_type": "stream",
     "text": [
      "identity of variable is:  2488486267536\n"
     ]
    }
   ],
   "source": [
    "lis = 78\n",
    "print(\"identity of variable is: \",id(lis))"
   ]
  },
  {
   "cell_type": "markdown",
   "id": "ea890054",
   "metadata": {},
   "source": [
    "# 6.Perform bitwise operations on any two integers."
   ]
  },
  {
   "cell_type": "code",
   "execution_count": 36,
   "id": "177823bf",
   "metadata": {},
   "outputs": [
    {
     "name": "stdout",
     "output_type": "stream",
     "text": [
      "True\n",
      "True\n",
      "-79\n",
      "114\n",
      "0\n",
      "156\n"
     ]
    }
   ],
   "source": [
    "int1 = 10\n",
    "int2 = 3\n",
    "print(a>b & b<a)\n",
    "print(a>b | b<a)\n",
    "print(~a)\n",
    "print(a^b)\n",
    "print(a>> 10)\n",
    "print(a<< 1)"
   ]
  },
  {
   "cell_type": "markdown",
   "id": "61547882",
   "metadata": {},
   "source": [
    "# 7.Use unary operators to change the sign of a number."
   ]
  },
  {
   "cell_type": "code",
   "execution_count": 42,
   "id": "89f91a56",
   "metadata": {},
   "outputs": [
    {
     "name": "stdout",
     "output_type": "stream",
     "text": [
      "-10\n"
     ]
    }
   ],
   "source": [
    " a = 10;\n",
    "\n",
    "print(-a)"
   ]
  },
  {
   "cell_type": "markdown",
   "id": "5af5c95b",
   "metadata": {},
   "source": [
    "# 8.Use the ternary operator to assign values based on condition"
   ]
  },
  {
   "cell_type": "code",
   "execution_count": 44,
   "id": "1d2f65b3",
   "metadata": {},
   "outputs": [
    {
     "name": "stdout",
     "output_type": "stream",
     "text": [
      "10\n"
     ]
    }
   ],
   "source": [
    "a, b = 10, 20\n",
    " \n",
    "min = a if a < b else b\n",
    " \n",
    "print(min)"
   ]
  },
  {
   "cell_type": "code",
   "execution_count": null,
   "id": "9ea02e08",
   "metadata": {},
   "outputs": [],
   "source": []
  }
 ],
 "metadata": {
  "kernelspec": {
   "display_name": "Python 3 (ipykernel)",
   "language": "python",
   "name": "python3"
  },
  "language_info": {
   "codemirror_mode": {
    "name": "ipython",
    "version": 3
   },
   "file_extension": ".py",
   "mimetype": "text/x-python",
   "name": "python",
   "nbconvert_exporter": "python",
   "pygments_lexer": "ipython3",
   "version": "3.10.7"
  }
 },
 "nbformat": 4,
 "nbformat_minor": 5
}
