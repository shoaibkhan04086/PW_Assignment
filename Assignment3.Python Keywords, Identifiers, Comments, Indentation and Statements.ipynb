{
 "cells": [
  {
   "cell_type": "markdown",
   "id": "c0d6bbc6",
   "metadata": {},
   "source": [
    "# Q1.Explain the significance of Python keywords and provide examples of five keywords."
   ]
  },
  {
   "cell_type": "markdown",
   "id": "54db2542",
   "metadata": {},
   "source": [
    "Ans:Python keywords are special reserved words that have specific meanings and purposes and can't be used for anything and at place of variable but for specific purposes.\n",
    "example:-\n",
    "\n",
    "1.print()\n",
    "2.if()\n",
    "3.else()\n",
    "4.True\n",
    "5.import"
   ]
  },
  {
   "cell_type": "markdown",
   "id": "3be9b340",
   "metadata": {},
   "source": [
    "# Q2.Descri0e the rules for defining identifiers in Python and provide an example.\n"
   ]
  },
  {
   "cell_type": "markdown",
   "id": "28016559",
   "metadata": {},
   "source": [
    "Ans:In Python, identifiers are names given to various program elements such as example-variables are  functions, classes, modules, etc. Here are the rules for defining identifiers in Python.\n",
    "Rule are :-\n",
    "1.Case Sensitivity\n",
    "2.Valid Characters\n",
    "3.Reserved Words\n",
    "4.Length Limitation"
   ]
  },
  {
   "cell_type": "markdown",
   "id": "7ef0c960",
   "metadata": {},
   "source": [
    "# Q3.What are comments in Python, and why are they useful6 Provide an example."
   ]
  },
  {
   "cell_type": "markdown",
   "id": "7d81b309",
   "metadata": {},
   "source": [
    "Ans: In Python, comments are annotations in the source code that are ignored by the interpreter. They are used for adding explanatory notes to the code to make it more readable and understandable.\n",
    "example:-\n",
    "a = 10\n",
    "b= 1\n",
    "c = a+b  #here we can comment that in c variable we can store addition of a and b.\n"
   ]
  },
  {
   "cell_type": "markdown",
   "id": "4b3a9d26",
   "metadata": {},
   "source": [
    "# Q4.Why is proper indentation important in Python?"
   ]
  },
  {
   "cell_type": "markdown",
   "id": "e4637a9d",
   "metadata": {},
   "source": [
    "Ans:Proper indentation is crucial in Python because it is used to indicate the structure and scope of the code blocks. Unlike many other programming languages that use curly braces or keywords to define blocks of code.\n",
    "\n",
    "*Here are the key reasons why proper indentation is important in Python are:-\n",
    "\n",
    "1.Readability.\n",
    "2.Code Blocks.\n",
    "3.Consistency."
   ]
  },
  {
   "cell_type": "markdown",
   "id": "f7acfe4a",
   "metadata": {},
   "source": [
    "# Q5.What happens if indentation is incorrect in Python?"
   ]
  },
  {
   "cell_type": "markdown",
   "id": "b73b6fb8",
   "metadata": {},
   "source": [
    "Ans:In Python, indentation is not just a matter of style; it is a critical part of the syntax. Incorrect indentation can lead to various issues, including syntax errors and logical errors. \n",
    "\n",
    "*Here are the consequences of incorrect indentation in Python are:-\n",
    "1.Syntax Errors\n",
    "2.Incorrect Code Structure\n",
    "3.Logical Errors\n",
    "4.Inconsistent Code"
   ]
  },
  {
   "cell_type": "markdown",
   "id": "06bbab48",
   "metadata": {},
   "source": [
    "# Q6.Differentiate 0etween expression and statement in Python with examples.\n"
   ]
  },
  {
   "cell_type": "markdown",
   "id": "452df7e2",
   "metadata": {},
   "source": [
    "Statement:A statement, on the other hand, is a complete line of code that performs an action. Statements are executed by the Python interpreter to produce a result. Examples include assignment statements, conditional statements, loops, function definitions, and more.\n",
    "\n",
    "example:-\n",
    "x = 10\n",
    "if x > 5:\n",
    "    print(\"x is greater than 5\")  \n",
    "else:\n",
    "    print(\"x is not greater than 5\")\n",
    "    \n",
    "Expression:An expression is a piece of code that produces a value when evaluated. It can consist of variables, literals, operators, and function calls. Expressions are often used to perform calculations or to represent data.    \n",
    "\n",
    "example:-\n",
    "result = 3 + 5 * 2"
   ]
  },
  {
   "cell_type": "code",
   "execution_count": null,
   "id": "f700f214",
   "metadata": {},
   "outputs": [],
   "source": []
  },
  {
   "cell_type": "code",
   "execution_count": null,
   "id": "f5842fe9",
   "metadata": {},
   "outputs": [],
   "source": []
  },
  {
   "cell_type": "code",
   "execution_count": null,
   "id": "d9abc3d2",
   "metadata": {},
   "outputs": [],
   "source": []
  },
  {
   "cell_type": "code",
   "execution_count": null,
   "id": "15208ee1",
   "metadata": {},
   "outputs": [],
   "source": []
  }
 ],
 "metadata": {
  "kernelspec": {
   "display_name": "Python 3 (ipykernel)",
   "language": "python",
   "name": "python3"
  },
  "language_info": {
   "codemirror_mode": {
    "name": "ipython",
    "version": 3
   },
   "file_extension": ".py",
   "mimetype": "text/x-python",
   "name": "python",
   "nbconvert_exporter": "python",
   "pygments_lexer": "ipython3",
   "version": "3.10.7"
  }
 },
 "nbformat": 4,
 "nbformat_minor": 5
}
